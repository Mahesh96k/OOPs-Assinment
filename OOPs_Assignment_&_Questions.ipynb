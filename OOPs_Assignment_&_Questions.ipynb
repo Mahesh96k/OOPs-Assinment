{
  "nbformat": 4,
  "nbformat_minor": 0,
  "metadata": {
    "colab": {
      "provenance": []
    },
    "kernelspec": {
      "name": "python3",
      "display_name": "Python 3"
    },
    "language_info": {
      "name": "python"
    }
  },
  "cells": [
    {
      "cell_type": "markdown",
      "source": [
        "# OOPs Question and Answer :>"
      ],
      "metadata": {
        "id": "p7LTOpX1E8w8"
      }
    },
    {
      "cell_type": "markdown",
      "source": [
        "\n",
        "\n",
        "01.  What is Object-Oriented Programming (OOP)?\n",
        "\n",
        "ANS:\n",
        "\n",
        "  -->  Object-Oriented Programming or OOPs refers to languages that use objects in programming. Object-oriented programming aims to implement real-world entities like inheritance, hiding, etc in programming.\n",
        "   The main aim of OOP is to bind together the data and the functions that operate on them so that no other part of the code can access this data except that function.\n",
        "\n",
        "02.  What is a class in OOP?\n",
        "\n",
        "ANS:\n",
        "\n",
        "  -->   A class in Python is a user-defined template for creating objects. It bundles data and functions together, making it easier to manage and use them.\n",
        "\n",
        "  Classes are created using class keyword. Attributes are variables defined inside the class and represent the properties of the class. Attributes can be accessed using the dot . operator\n",
        "  \n",
        "  (for example :> MyClass.my_attribute).\n",
        "\n",
        "\n",
        "03.  What is an object in OOP?\n",
        "\n",
        "ANS:\n",
        "\n",
        "  -->  The object in the OOPs defined the data that as an unique attributes and behaviour in the code or while writing the program.\n",
        "\n",
        "  The OOPs during the code writing focuse on the object that developes and manupulate rather than the logic that the programer wanted to be during block of code writing  \n",
        "\n",
        "\n",
        "04.  What is the difference between abstraction and encapsulation?\n",
        "\n",
        "ANS:\n",
        "\n",
        "  --> in the pyhton the abstraction simplifies the compelx systems by hiding the details\n",
        "\n",
        "  on the other hand the encapulation makes that the how the object data is accessed and manipulated during the code assing .\n",
        "\n",
        "\n",
        "\n",
        "05.  What are dunder methods in Python?\n",
        "\n",
        "ANS:\n",
        "\n",
        "  --> The dunder method is also called as magic method in the python .\n",
        "\n",
        "  The duder or the magic method is a method has a use during the double-under score before and after the name.\n",
        "\n",
        "  The __init__ is an best example of the dunder or the magic method .\n",
        "\n",
        "  The dunder is a short for double under score method that use befor the starting and at the end.\n",
        "\n",
        "\n",
        "06.  Explain the concept of inheritance in OOP?\n",
        "\n",
        "ANS:\n",
        "  \n",
        "  --> Inheritance in object-oriented programming (OOP) is a fundamental concept that allows programmers to create new classes based on existing classes\n",
        "\n",
        "  The Inheritance is the mechanism thats allows a class to inherit properites and behavior of the other class .\n",
        "\n",
        "\n",
        "07.  What is polymorphism in OOP?\n",
        "\n",
        "ANS:\n",
        "\n",
        "  --> Polymorphism in object-oriented programming (OOP) is the ability to treat objects of different types as objects of a common superclass.\n",
        "\n",
        "\n",
        "08.  How is encapsulation achieved in Python?\n",
        "\n",
        "ANS:\n",
        "\n",
        "  -->\n",
        "\n",
        "\n",
        "09.  What is a constructor in Python?\n",
        "\n",
        "ANS:\n",
        "  \n",
        "  --> A constructor in Python is a special method that initializes an object when a class is instantiated.\n",
        "\n",
        "\n",
        "10.  What are class and static methods in Python?\n",
        "\n",
        "ANS:\n",
        "  \n",
        "  --> The @classmethod decorator is a built-in function decorator that is an expression that gets evaluated after your function is defined.\n",
        "\n",
        "  A static method does not receive an implicit first argument. A static method is also a method that is bound to the class and not the object of the class.\n",
        "\n",
        "\n",
        "11.  What is method overloading in Python?\n",
        "\n",
        "ANS:\n",
        "  \n",
        "  --> Method overloading in Python is the concept of having multiple methods with the same name but different parameters.\n",
        "  \n",
        "   This allows a single function to handle different types of input.\n",
        "\n",
        "\n",
        "12.  What is method overriding in OOP?\n",
        "\n",
        "ANS:\n",
        "  \n",
        "  -->\n",
        "\n",
        "\n",
        "13.  What is a property decorator in Python?\n",
        "\n",
        "ANS:\n",
        "\n",
        "  -->The Python property decorator makes attributes in a class act like read-only properties.\n",
        "  \n",
        "  Essentially, it lets you access methods as if they were attributes, without needing to write parentheses.\n",
        "\n",
        "\n",
        "14.  Why is polymorphism important in OOP?\n",
        "\n",
        "ANS:\n",
        "  \n",
        "  --> The Polymorphism allows the programmers to write efficeint and flexible code .\n",
        "\n",
        "  The polymorphism it aslo make code easier and maintain over the time period.\n",
        "\n",
        "\n",
        "\n",
        "15.  what is an abstract class in Python?\n",
        "\n",
        "ANS:\n",
        "  \n",
        "  -->  The abstract class in the python is a class is the concept in object oriented programming that is used to typically created to declear a set of methods that must be created in any child class during code writing on the top of this abstract class.\n",
        "\n",
        "\n",
        "\n",
        "\n",
        "16.  What are the advantages of OOP?\n",
        "\n",
        "ANS:\n",
        "  \n",
        "  --> We can build the code from the standard working module that communicate with one another rather than the having to start writing  the code of programe .\n",
        "\n",
        "  The OOPs language allows to break the programge into bit manner where the problem can be solved easily .\n",
        "\n",
        "  The OOPs system can be easily upgraded from small to a large system .\n",
        "\n",
        "  The principle of the data hiding helps the programers to build secure programs which cannot be invaded by the code in other part of the programmer or to the program .\n",
        "\n",
        "\n",
        "\n",
        "17.  What is the difference between a class variable and an instance variable?\n",
        "\n",
        "ANS:\n",
        "  \n",
        "  \n",
        "--> Instance Variable:\n",
        "\n",
        " It is basically a class variable without a static modifier and is usually shared by all class instances. Across different objects, these variables can have different values.\n",
        "\n",
        "Class Variable:\n",
        "\n",
        "It is basically a static variable that can be declared anywhere at class level with static. Across different objects, these variables can have only one value.\n",
        "\n",
        "These variables are not tied to any particular object of the class, therefore, can share across all objects of the class.\n",
        "\n",
        "\n",
        "18.  What is multiple inheritance in Python?\n",
        "\n",
        "ANS:\n",
        "\n",
        "  --> When a class is derived from more than one base class it is called multiple Inheritance.\n",
        "\n",
        "\n",
        "19.  Explain the purpose of ‘’__str__’ and ‘__repr__’ ‘ methods in Python?\n",
        "\n",
        "ANS:\n",
        "  \n",
        "  --> In Python, the str() and repr() functions are used to obtain string representations of objects. While they may seem similar at first glance, there are some differences in how they behave.\n",
        "  \n",
        " Both of the functions can be helpful in debugging or printing useful information about the object.\n",
        "\n",
        "\n",
        "20.  What is the significance of the ‘super()’ function in Python?\n",
        "\n",
        "ANS:\n",
        "\n",
        "  --> In Python, the super() function is used to refer to the parent class or superclass. It allows you to call methods defined in the superclass from the subclass, enabling you to extend and customize the functionality inherited from the parent class\n",
        "\n",
        "\n",
        "21.  What is the significance of the __del__ method in Python?\n",
        "\n",
        "ANS:\n",
        "  \n",
        "  --> In Python, object-oriented programming provides several special methods that start and end with double underscores, known as \"magic methods\" or \"dunder methods.\"\n",
        "  \n",
        " These methods enable you to customize the behavior of your classes in specific ways. One such method is __del__, which is also known as the destructor method.\n",
        "\n",
        "22.  What is the difference between @staticmethod and @classmethod in Python?\n",
        "\n",
        "ANS:\n",
        "  \n",
        "  --> The classmethod() is an inbuilt function in Python, which returns a class method for a given function.\n",
        "  \n",
        "  This means that classmethod() is a built-in Python function that transforms a regular method into a class method.\n",
        "  \n",
        "  When a method is defined using the @classmethod decorator (which internally calls classmethod()), the method is bound to the class and not to an instance of the class.\n",
        "\n",
        "\n",
        "23.  How does polymorphism work in Python with inheritance?\n",
        "\n",
        "ANS:\n",
        "  \n",
        "  -->\n",
        "\n",
        "24.  What is method chaining in Python OOP?\n",
        "\n",
        "ANS:\n",
        "  \n",
        "  --> Method chaining is a powerful technique in Python programming that allows us to call multiple methods on an object in a single, continuous line of code.\n",
        "  \n",
        "  This approach makes the code cleaner, more readable, and often easier to maintain.\n",
        "  \n",
        "  It is frequently used in data processing, object-oriented programming, and frameworks such as Pandas, Django ORM, and Flask.\n",
        "\n",
        "\n",
        "25.  What is the purpose of the __call__ method in Python?\n",
        "\n",
        "ANS:\n",
        "  \n",
        "  -->\n"
      ],
      "metadata": {
        "id": "ypU0LQXgmoDH"
      }
    },
    {
      "cell_type": "code",
      "source": [
        "# # 1. Create a parent class Animal with a method speak() that prints a generic message. Create a child class Dog\n",
        "# that overrides the speak() method to print \"Bark!\".\n",
        "\n",
        "class Animal:\n",
        "    def speak(self):\n",
        "        print(\"Generic animal sound\")\n",
        "\n",
        "class Dog(Animal):\n",
        "    def speak(self):\n",
        "        print(\"Bark!\")\n"
      ],
      "metadata": {
        "id": "VbH2gp8mFMZe"
      },
      "execution_count": 1,
      "outputs": []
    },
    {
      "cell_type": "code",
      "source": [
        "obj = Dog()\n",
        "obj.speak()"
      ],
      "metadata": {
        "colab": {
          "base_uri": "https://localhost:8080/"
        },
        "id": "fL0G7TMaFanm",
        "outputId": "30d28ecd-abb1-4e74-e568-73254d716e3b"
      },
      "execution_count": 2,
      "outputs": [
        {
          "output_type": "stream",
          "name": "stdout",
          "text": [
            "Bark!\n"
          ]
        }
      ]
    },
    {
      "cell_type": "code",
      "source": [
        "# 02. Write a program to create an abstract class Shape with a method area(). Derive classes Circle and Rectangle\n",
        "# from it and implement the area() method in both.\n",
        "\n",
        "from abc import ABC, abstractmethod\n",
        "\n",
        "class Shape(ABC):\n",
        "    @abstractmethod\n",
        "    def area(self):\n",
        "        pass\n",
        "\n",
        "\n"
      ],
      "metadata": {
        "id": "GpjyCFRKFhKl"
      },
      "execution_count": 3,
      "outputs": []
    },
    {
      "cell_type": "code",
      "source": [
        "# 03. Implement a multi-level inheritance scenario where a class Vehicle has an attribute type. Derive a class Car\n",
        "# and further derive a class ElectricCar that adds a battery attribute.\n",
        "\n",
        "class Vehicle:\n",
        "    def __init__(self, type):\n",
        "        self.type = type"
      ],
      "metadata": {
        "id": "5NKgL6TMGMq1"
      },
      "execution_count": 4,
      "outputs": []
    },
    {
      "cell_type": "code",
      "source": [
        "# 04.Implement a multi-level inheritance scenario where a class Vehicle has an attribute type. Derive a class Car\n",
        "# and further derive a class ElectricCar that adds a battery attribute.\n",
        "\n",
        "class Vehicle:\n",
        "    def __init__(self, type):\n",
        "        self.type = type"
      ],
      "metadata": {
        "id": "WDFJYYo-GXE2"
      },
      "execution_count": 5,
      "outputs": []
    },
    {
      "cell_type": "code",
      "source": [
        "on = Vehicle(\"Car\")\n",
        "on.type"
      ],
      "metadata": {
        "colab": {
          "base_uri": "https://localhost:8080/",
          "height": 35
        },
        "id": "zDbXjictG3Vs",
        "outputId": "9f50afdf-06cd-4b9b-a9aa-e60dfbfaa6e5"
      },
      "execution_count": 8,
      "outputs": [
        {
          "output_type": "execute_result",
          "data": {
            "text/plain": [
              "'Car'"
            ],
            "application/vnd.google.colaboratory.intrinsic+json": {
              "type": "string"
            }
          },
          "metadata": {},
          "execution_count": 8
        }
      ]
    },
    {
      "cell_type": "code",
      "source": [
        "# 05.Write a program to demonstrate encapsulation by creating a class BankAccount with private attributes\n",
        "# balance and methods to deposit, withdraw, and check balance.\n",
        "\n",
        "class BankAccount:\n",
        "    def __init__(self, balance):\n",
        "        self.__balance = 1000"
      ],
      "metadata": {
        "id": "qs8h9jyoGk_l"
      },
      "execution_count": 6,
      "outputs": []
    },
    {
      "cell_type": "code",
      "source": [
        "obj = BankAccount(1000)\n",
        "obj._BankAccount__balance"
      ],
      "metadata": {
        "colab": {
          "base_uri": "https://localhost:8080/"
        },
        "id": "BIuBvYLsGy1u",
        "outputId": "2954fe38-61e3-4477-cb1f-2958c575a461"
      },
      "execution_count": 7,
      "outputs": [
        {
          "output_type": "execute_result",
          "data": {
            "text/plain": [
              "1000"
            ]
          },
          "metadata": {},
          "execution_count": 7
        }
      ]
    },
    {
      "cell_type": "code",
      "source": [
        "# 06. Demonstrate runtime polymorphism using a method play() in a base class Instrument. Derive classes Guitar\n",
        "# and Piano that implement their own version of play()\n",
        "\n",
        "class Instrument:\n",
        "    def play(self):\n",
        "        print(\"Generic instrument sound\")\n",
        "\n",
        "class Guitar(Instrument):\n",
        "    def play(self):\n",
        "        print(\"Guitar sound\")\n",
        "\n",
        "class Piano(Instrument):\n",
        "    def play(self):\n",
        "        print(\"Piano sound\")"
      ],
      "metadata": {
        "id": "k3pV2LudG1jm"
      },
      "execution_count": 16,
      "outputs": []
    },
    {
      "cell_type": "code",
      "source": [
        "obj = Piano()\n",
        "obj.play()"
      ],
      "metadata": {
        "colab": {
          "base_uri": "https://localhost:8080/"
        },
        "id": "U6nP3y3zHkvR",
        "outputId": "0d184238-95f0-49f5-d55d-ffea6dcf66b5"
      },
      "execution_count": 18,
      "outputs": [
        {
          "output_type": "stream",
          "name": "stdout",
          "text": [
            "Piano sound\n"
          ]
        }
      ]
    },
    {
      "cell_type": "code",
      "source": [
        "obj = Guitar()\n",
        "obj.play()"
      ],
      "metadata": {
        "colab": {
          "base_uri": "https://localhost:8080/"
        },
        "id": "qmgWAq-zHm6X",
        "outputId": "9a57bff2-94ac-412e-9add-d6f460c305e0"
      },
      "execution_count": 19,
      "outputs": [
        {
          "output_type": "stream",
          "name": "stdout",
          "text": [
            "Guitar sound\n"
          ]
        }
      ]
    },
    {
      "cell_type": "code",
      "source": [
        "# 07.Create a class MathOperations with a class method add_numbers() to add two numbers and a static\n",
        "# method subtract_numbers() to subtract two numbers.\n",
        "\n",
        "class MathOperations:\n",
        "    @classmethod\n",
        "    def add_numbers(cls, a, b):\n",
        "        return a + b\n",
        "\n",
        "    @staticmethod\n",
        "    def subtract_numbers(a, b):\n",
        "        return a - b\n",
        "\n"
      ],
      "metadata": {
        "id": "Eyg3tZNKHtcg"
      },
      "execution_count": 20,
      "outputs": []
    },
    {
      "cell_type": "code",
      "source": [
        "obj = MathOperations()\n",
        "obj.add_numbers(10500, 300)"
      ],
      "metadata": {
        "colab": {
          "base_uri": "https://localhost:8080/"
        },
        "id": "HE3B8wK_H4Cx",
        "outputId": "a5906003-0bfd-4f22-eb34-f93f095fdef8"
      },
      "execution_count": 21,
      "outputs": [
        {
          "output_type": "execute_result",
          "data": {
            "text/plain": [
              "10800"
            ]
          },
          "metadata": {},
          "execution_count": 21
        }
      ]
    },
    {
      "cell_type": "code",
      "source": [
        "obj.subtract_numbers(10500, 300)"
      ],
      "metadata": {
        "colab": {
          "base_uri": "https://localhost:8080/"
        },
        "id": "MKJ0VftxH9Hh",
        "outputId": "acfcc9f2-1bf7-4544-f889-d79fdcc379bb"
      },
      "execution_count": 22,
      "outputs": [
        {
          "output_type": "execute_result",
          "data": {
            "text/plain": [
              "10200"
            ]
          },
          "metadata": {},
          "execution_count": 22
        }
      ]
    },
    {
      "cell_type": "code",
      "source": [
        "# 08. Implement a class Person with a class method to count the total number of persons created.\n",
        "\n",
        "class Person:\n",
        "    count = 0\n",
        "\n",
        "    def __init__(self):\n",
        "        Person.count += 1\n",
        "\n",
        "    @classmethod\n",
        "    def get_count(cls):\n",
        "        return cls.count"
      ],
      "metadata": {
        "id": "GYfjKNOPH_3R"
      },
      "execution_count": 23,
      "outputs": []
    },
    {
      "cell_type": "code",
      "source": [
        "obj = Person()"
      ],
      "metadata": {
        "id": "RwcRcD_fIHf5"
      },
      "execution_count": 26,
      "outputs": []
    },
    {
      "cell_type": "code",
      "source": [
        "obj.get_count()"
      ],
      "metadata": {
        "colab": {
          "base_uri": "https://localhost:8080/"
        },
        "id": "7JIsP4xHIJKt",
        "outputId": "5fb29a8c-b85b-4532-909e-006a47f8af09"
      },
      "execution_count": 27,
      "outputs": [
        {
          "output_type": "execute_result",
          "data": {
            "text/plain": [
              "2"
            ]
          },
          "metadata": {},
          "execution_count": 27
        }
      ]
    },
    {
      "cell_type": "code",
      "source": [
        "# 09.Write a class Fraction with attributes numerator and denominator. Override the str method to display the\n",
        "# fraction as \"numerator/denominator\".\n",
        "\n"
      ],
      "metadata": {
        "id": "53YbRKDTIO3J"
      },
      "execution_count": null,
      "outputs": []
    },
    {
      "cell_type": "code",
      "source": [
        "# 10. Demonstrate operator overloading by creating a class Vector and overriding the add method to add two\n",
        "# vectors.\n",
        "\n",
        "class Vector:\n",
        "    def __init__(self, x, y):\n",
        "        self.x = x\n",
        "        self.y = y\n",
        "\n",
        "    def __add__(self, other):\n",
        "        if isinstance(other, Vector):\n",
        "            return Vector(self.x + other.x, self.y + other.y)\n",
        "\n",
        "\n",
        "    def __repr__(self):\n",
        "        return f\"Vector({self.x}, {self.y})\"\n",
        "\n"
      ],
      "metadata": {
        "id": "q3gTyLj4Ifko"
      },
      "execution_count": 28,
      "outputs": []
    },
    {
      "cell_type": "code",
      "source": [
        "v1 = Vector(2, 8)\n",
        "v2 = Vector(4, 9)\n",
        "result = v1 + v2\n",
        "print(result)"
      ],
      "metadata": {
        "colab": {
          "base_uri": "https://localhost:8080/"
        },
        "id": "AfpNQjGII0bC",
        "outputId": "f35bb5e1-a57e-4e7f-8481-b04bdbad0745"
      },
      "execution_count": 30,
      "outputs": [
        {
          "output_type": "stream",
          "name": "stdout",
          "text": [
            "Vector(6, 17)\n"
          ]
        }
      ]
    },
    {
      "cell_type": "code",
      "source": [
        "# 11.Create a class Person with attributes name and age. Add a method greet() that prints \"Hello, my name is\n",
        "# {name} and I am {age} years old.\n",
        "\n",
        "class Person:\n",
        "    def __init__(self, name, age):\n",
        "        self.name = name\n",
        "        self.age = age\n",
        "\n",
        "\n",
        "\n"
      ],
      "metadata": {
        "id": "NS5mIC2bI8Gr"
      },
      "execution_count": 44,
      "outputs": []
    },
    {
      "cell_type": "code",
      "source": [
        "# 12. implement a class Student with attributes name and grades. Create a method average_grade() to compute\n",
        "# the average of the grades.\n",
        "\n"
      ],
      "metadata": {
        "id": "D4RxuJ1zNRTf"
      },
      "execution_count": 31,
      "outputs": []
    },
    {
      "cell_type": "code",
      "source": [
        "# 13.Create a class Rectangle with methods set_dimensions() to set the dimensions and area() to calculate the\n",
        "# area.\n",
        "\n",
        "class Rectangle:\n",
        "    def set_dimensions(self, length, width):\n",
        "        self.length = length\n",
        "        self.width = width\n",
        "\n",
        "    def area(self):\n",
        "        return self.length * self.width\n",
        ""
      ],
      "metadata": {
        "id": "BWBQA8eMOfLY"
      },
      "execution_count": 45,
      "outputs": []
    },
    {
      "cell_type": "code",
      "source": [
        "obj = Rectangle()\n",
        "obj.set_dimensions(10, 250)\n",
        "obj.area()"
      ],
      "metadata": {
        "colab": {
          "base_uri": "https://localhost:8080/"
        },
        "id": "bbF6KMjMPnm0",
        "outputId": "9f3f7ca2-418c-48d7-cc7b-2b2b9496c216"
      },
      "execution_count": 47,
      "outputs": [
        {
          "output_type": "execute_result",
          "data": {
            "text/plain": [
              "2500"
            ]
          },
          "metadata": {},
          "execution_count": 47
        }
      ]
    },
    {
      "cell_type": "code",
      "source": [
        "# 14.Create a class Employee with a method calculate_salary() that computes the salary based on hours worked\n",
        "# and hourly rate. Create a derived class Manager that adds a bonus to the salary.\n",
        "\n",
        "class Employee:\n",
        "    def calculate_salary(self, hours_worked, hourly_rate):\n",
        "        return hours_worked * hourly_rate"
      ],
      "metadata": {
        "id": "mYMX2B3UP8CV"
      },
      "execution_count": 48,
      "outputs": []
    },
    {
      "cell_type": "code",
      "source": [
        "obj = Employee()\n",
        "obj.calculate_salary(10, 35000)"
      ],
      "metadata": {
        "colab": {
          "base_uri": "https://localhost:8080/"
        },
        "id": "vWmYc_qDQEld",
        "outputId": "8d2df31f-9565-42a3-928e-10f9dc6c8714"
      },
      "execution_count": 49,
      "outputs": [
        {
          "output_type": "execute_result",
          "data": {
            "text/plain": [
              "350000"
            ]
          },
          "metadata": {},
          "execution_count": 49
        }
      ]
    },
    {
      "cell_type": "code",
      "source": [
        "# 15.Create a class Product with attributes name, price, and quantity. Implement a method total_price() that\n",
        "# calculates the total price of the product.\n",
        "\n",
        "class Product:\n",
        "    def __init__(self, name, price, quantity):\n",
        "        self.name = name\n",
        "        self.price = price\n",
        "        self.quantity = quantity\n",
        "\n",
        "    def total_price(self):\n",
        "        return self.price * self.quantity"
      ],
      "metadata": {
        "id": "kjhcNSH5QI1l"
      },
      "execution_count": 50,
      "outputs": []
    },
    {
      "cell_type": "code",
      "source": [
        "obj = Product(\"Mobile\", 35000, 10)\n",
        "obj.total_price()"
      ],
      "metadata": {
        "colab": {
          "base_uri": "https://localhost:8080/"
        },
        "id": "VC4NylUZQRu2",
        "outputId": "a9308dfb-a3e5-4b24-dd99-a4e7204c7de6"
      },
      "execution_count": 52,
      "outputs": [
        {
          "output_type": "execute_result",
          "data": {
            "text/plain": [
              "350000"
            ]
          },
          "metadata": {},
          "execution_count": 52
        }
      ]
    },
    {
      "cell_type": "code",
      "source": [
        "# 16.Create a class Animal with an abstract method sound(). Create two derived classes Cow and Sheep that\n",
        "# implement the sound() method.\n",
        "\n"
      ],
      "metadata": {
        "id": "b9Eu_08hQV9h"
      },
      "execution_count": null,
      "outputs": []
    },
    {
      "cell_type": "code",
      "source": [
        "# 17. Create a class Book with attributes title, author, and year_published. Add a method get_book_info() that\n",
        "# returns a formatted string with the book's details\n",
        "\n"
      ],
      "metadata": {
        "id": "ZcQcBZGtQtiw"
      },
      "execution_count": 53,
      "outputs": []
    },
    {
      "cell_type": "code",
      "source": [
        "# 18.Create a class House with attributes address and price. Create a derived class Mansion that adds an\n",
        "# attribute number_of_rooms\n",
        "\n",
        "class House:\n",
        "    def __init__(self, address, price):\n",
        "        self.address = address\n",
        "        self.price = price"
      ],
      "metadata": {
        "id": "6o1uuxStQ0pP"
      },
      "execution_count": null,
      "outputs": []
    }
  ]
}